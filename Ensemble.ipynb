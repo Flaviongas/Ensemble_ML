{
 "cells": [
  {
   "cell_type": "code",
   "execution_count": null,
   "metadata": {
    "id": "4l0vrzhUiLRB"
   },
   "outputs": [],
   "source": []
  },
  {
   "cell_type": "markdown",
   "metadata": {
    "id": "EGXu7o_Q8mpH"
   },
   "source": [
    "## Actividad: Ensambles en un problema real (trabajo individual o en parejas)\n",
    "\n",
    "**Datos**: Elige un dataset binario de Kaggle (churn/fraude/crédito o similar).  \n",
    "**Flujo mínimo exigido (sin validación cruzada):**\n",
    "1) Particiona en *train/test* con `train_test_split` (estratificado).  \n",
    "2) Entrena tres clasificadores base (sugerencia: Regresión Logística, Árbol, SVM con `probability=True`).  \n",
    "3) Compara `VotingClassifier` con `voting='hard'` y `voting='soft'`.  \n",
    "4) Entrena `BaggingClassifier` (árbol base).  \n",
    "5) Entrena `RandomForestClassifier` con `oob_score=True`; reporta OOB y compáralo con test.  \n",
    "6) Reporta **Accuracy, Precision, Recall, F1** y matriz de confusión.  \n",
    "7) Muestra **feature importances** (MDI) y, si el dataset tiene >5 features, complementa con **Permutation Importance**.  \n",
    "8) **Discusión** (10–15 líneas): ¿qué método funcionó mejor y por qué? Relaciona con diversidad, varianza, *oob*, y la posible calibración de probabilidades (hard vs soft voting).\n"
   ]
  },
  {
   "cell_type": "markdown",
   "metadata": {
    "id": "LrjxnEK-0NUj"
   },
   "source": [
    "## Rúbrica\n",
    "\n",
    "| **Dimensión**                                                                  | **5 — Excelente**                                                                                                                | **4 — Muy bueno**                                                                          | **3 — Aceptable**                                                            | **2 — Básico**                                                      | **1 — Insuficiente**                                               |\n",
    "| ------------------------------------------------------------------------------ | -------------------------------------------------------------------------------------------------------------------------------- | ------------------------------------------------------------------------------------------ | ---------------------------------------------------------------------------- | ------------------------------------------------------------------- | ------------------------------------------------------------------ |\n",
    "| **Preparación y partición de datos**                                           | Realiza la partición estratificada de manera correcta; justifica la elección y asegura balance entre clases.                     | Realiza partición estratificada correcta, pero con justificación superficial.              | Partición realizada, pero no asegura balance en todas las clases.            | Partición realizada parcialmente, con errores en estratificación.   | No realiza partición correcta o no entrega evidencia del proceso.  |\n",
    "| **Implementación de clasificadores base**                                      | Entrena correctamente 3 clasificadores distintos, configurados con parámetros adecuados, justifica su elección.                  | Entrena 3 clasificadores, con pequeños errores de configuración o sin justificación clara. | Entrena solo 2 clasificadores correctamente.                                 | Entrena 1 clasificador o los entrena con errores graves.            | No implementa clasificadores o el código no funciona.              |\n",
    "| **Uso de métodos de ensamble (Voting, Bagging, Random Forest)**                | Implementa y compara Voting (hard y soft), Bagging y Random Forest con OOB correctamente; explica resultados.                    | Implementa los 3 métodos, con leves errores o explicaciones incompletas.                   | Implementa 2 métodos de ensamble correctamente.                              | Implementa solo 1 método o los aplica con errores graves.           | No implementa métodos de ensamble o los resultados no son válidos. |\n",
    "| **Métricas de evaluación (Accuracy, Precision, Recall, F1, Confusion Matrix)** | Reporta todas las métricas con claridad; interpreta correctamente cada una con respecto al problema.                             | Reporta todas las métricas, pero con interpretación superficial.                           | Reporta solo parte de las métricas o con errores menores.                    | Reporta pocas métricas y con errores en su interpretación.          | No reporta métricas o son incorrectas.                             |\n",
    "| **Feature Importances (MDI y Permutation)**                                    | Presenta importancias correctamente calculadas y explicadas; compara MDI vs Permutation con interpretación crítica.              | Presenta importancias con explicación parcial o comparación superficial.                   | Calcula solo un tipo de importancia (MDI o Permutation) sin discusión clara. | Calcula importancias con errores o sin relación con el problema.    | No reporta ni analiza importancias.                                |\n",
    "| **Discusión y análisis crítico**                                               | Discusión profunda (10–15 líneas), conecta con diversidad, varianza, OOB y calibración; argumenta qué método es mejor y por qué. | Discusión adecuada (8–12 líneas), toca la mayoría de los puntos pedidos.                   | Discusión básica (5–8 líneas), cubre parcialmente los puntos.                | Discusión mínima (menos de 5 líneas) o sin profundidad analítica.   | No presenta discusión o carece de relación con la actividad.       |\n",
    "| **Claridad, orden y presentación**                                             | Trabajo impecable, con código organizado, comentarios claros y redacción fluida.                                                 | Trabajo bien organizado, con leves errores de orden o redacción.                           | Trabajo aceptable, pero con secciones poco claras o desordenadas.            | Trabajo poco organizado y con deficiencias importantes en claridad. | Trabajo desordenado, sin coherencia ni presentación adecuada.      |\n"
   ]
  },
  {
   "cell_type": "code",
   "execution_count": 2,
   "metadata": {},
   "outputs": [],
   "source": [
    "import pandas as pd"
   ]
  },
  {
   "cell_type": "code",
   "execution_count": 3,
   "metadata": {},
   "outputs": [
    {
     "data": {
      "text/html": [
       "<div>\n",
       "<style scoped>\n",
       "    .dataframe tbody tr th:only-of-type {\n",
       "        vertical-align: middle;\n",
       "    }\n",
       "\n",
       "    .dataframe tbody tr th {\n",
       "        vertical-align: top;\n",
       "    }\n",
       "\n",
       "    .dataframe thead th {\n",
       "        text-align: right;\n",
       "    }\n",
       "</style>\n",
       "<table border=\"1\" class=\"dataframe\">\n",
       "  <thead>\n",
       "    <tr style=\"text-align: right;\">\n",
       "      <th></th>\n",
       "      <th>person_age</th>\n",
       "      <th>person_gender</th>\n",
       "      <th>person_education</th>\n",
       "      <th>person_income</th>\n",
       "      <th>person_emp_exp</th>\n",
       "      <th>person_home_ownership</th>\n",
       "      <th>loan_amnt</th>\n",
       "      <th>loan_intent</th>\n",
       "      <th>loan_int_rate</th>\n",
       "      <th>loan_percent_income</th>\n",
       "      <th>cb_person_cred_hist_length</th>\n",
       "      <th>credit_score</th>\n",
       "      <th>previous_loan_defaults_on_file</th>\n",
       "      <th>loan_status</th>\n",
       "    </tr>\n",
       "  </thead>\n",
       "  <tbody>\n",
       "    <tr>\n",
       "      <th>0</th>\n",
       "      <td>22.0</td>\n",
       "      <td>female</td>\n",
       "      <td>Master</td>\n",
       "      <td>71948.0</td>\n",
       "      <td>0</td>\n",
       "      <td>RENT</td>\n",
       "      <td>35000.0</td>\n",
       "      <td>PERSONAL</td>\n",
       "      <td>16.02</td>\n",
       "      <td>0.49</td>\n",
       "      <td>3.0</td>\n",
       "      <td>561</td>\n",
       "      <td>No</td>\n",
       "      <td>1</td>\n",
       "    </tr>\n",
       "    <tr>\n",
       "      <th>1</th>\n",
       "      <td>21.0</td>\n",
       "      <td>female</td>\n",
       "      <td>High School</td>\n",
       "      <td>12282.0</td>\n",
       "      <td>0</td>\n",
       "      <td>OWN</td>\n",
       "      <td>1000.0</td>\n",
       "      <td>EDUCATION</td>\n",
       "      <td>11.14</td>\n",
       "      <td>0.08</td>\n",
       "      <td>2.0</td>\n",
       "      <td>504</td>\n",
       "      <td>Yes</td>\n",
       "      <td>0</td>\n",
       "    </tr>\n",
       "    <tr>\n",
       "      <th>2</th>\n",
       "      <td>25.0</td>\n",
       "      <td>female</td>\n",
       "      <td>High School</td>\n",
       "      <td>12438.0</td>\n",
       "      <td>3</td>\n",
       "      <td>MORTGAGE</td>\n",
       "      <td>5500.0</td>\n",
       "      <td>MEDICAL</td>\n",
       "      <td>12.87</td>\n",
       "      <td>0.44</td>\n",
       "      <td>3.0</td>\n",
       "      <td>635</td>\n",
       "      <td>No</td>\n",
       "      <td>1</td>\n",
       "    </tr>\n",
       "    <tr>\n",
       "      <th>3</th>\n",
       "      <td>23.0</td>\n",
       "      <td>female</td>\n",
       "      <td>Bachelor</td>\n",
       "      <td>79753.0</td>\n",
       "      <td>0</td>\n",
       "      <td>RENT</td>\n",
       "      <td>35000.0</td>\n",
       "      <td>MEDICAL</td>\n",
       "      <td>15.23</td>\n",
       "      <td>0.44</td>\n",
       "      <td>2.0</td>\n",
       "      <td>675</td>\n",
       "      <td>No</td>\n",
       "      <td>1</td>\n",
       "    </tr>\n",
       "    <tr>\n",
       "      <th>4</th>\n",
       "      <td>24.0</td>\n",
       "      <td>male</td>\n",
       "      <td>Master</td>\n",
       "      <td>66135.0</td>\n",
       "      <td>1</td>\n",
       "      <td>RENT</td>\n",
       "      <td>35000.0</td>\n",
       "      <td>MEDICAL</td>\n",
       "      <td>14.27</td>\n",
       "      <td>0.53</td>\n",
       "      <td>4.0</td>\n",
       "      <td>586</td>\n",
       "      <td>No</td>\n",
       "      <td>1</td>\n",
       "    </tr>\n",
       "  </tbody>\n",
       "</table>\n",
       "</div>"
      ],
      "text/plain": [
       "   person_age person_gender person_education  person_income  person_emp_exp  \\\n",
       "0        22.0        female           Master        71948.0               0   \n",
       "1        21.0        female      High School        12282.0               0   \n",
       "2        25.0        female      High School        12438.0               3   \n",
       "3        23.0        female         Bachelor        79753.0               0   \n",
       "4        24.0          male           Master        66135.0               1   \n",
       "\n",
       "  person_home_ownership  loan_amnt loan_intent  loan_int_rate  \\\n",
       "0                  RENT    35000.0    PERSONAL          16.02   \n",
       "1                   OWN     1000.0   EDUCATION          11.14   \n",
       "2              MORTGAGE     5500.0     MEDICAL          12.87   \n",
       "3                  RENT    35000.0     MEDICAL          15.23   \n",
       "4                  RENT    35000.0     MEDICAL          14.27   \n",
       "\n",
       "   loan_percent_income  cb_person_cred_hist_length  credit_score  \\\n",
       "0                 0.49                         3.0           561   \n",
       "1                 0.08                         2.0           504   \n",
       "2                 0.44                         3.0           635   \n",
       "3                 0.44                         2.0           675   \n",
       "4                 0.53                         4.0           586   \n",
       "\n",
       "  previous_loan_defaults_on_file  loan_status  \n",
       "0                             No            1  \n",
       "1                            Yes            0  \n",
       "2                             No            1  \n",
       "3                             No            1  \n",
       "4                             No            1  "
      ]
     },
     "execution_count": 3,
     "metadata": {},
     "output_type": "execute_result"
    }
   ],
   "source": [
    "df = pd.read_csv(\"./loan_data.csv\")\n",
    "df.head()"
   ]
  },
  {
   "cell_type": "code",
   "execution_count": 4,
   "metadata": {},
   "outputs": [
    {
     "name": "stdout",
     "output_type": "stream",
     "text": [
      "<class 'pandas.core.frame.DataFrame'>\n",
      "RangeIndex: 45000 entries, 0 to 44999\n",
      "Data columns (total 14 columns):\n",
      " #   Column                          Non-Null Count  Dtype  \n",
      "---  ------                          --------------  -----  \n",
      " 0   person_age                      45000 non-null  float64\n",
      " 1   person_gender                   45000 non-null  object \n",
      " 2   person_education                45000 non-null  object \n",
      " 3   person_income                   45000 non-null  float64\n",
      " 4   person_emp_exp                  45000 non-null  int64  \n",
      " 5   person_home_ownership           45000 non-null  object \n",
      " 6   loan_amnt                       45000 non-null  float64\n",
      " 7   loan_intent                     45000 non-null  object \n",
      " 8   loan_int_rate                   45000 non-null  float64\n",
      " 9   loan_percent_income             45000 non-null  float64\n",
      " 10  cb_person_cred_hist_length      45000 non-null  float64\n",
      " 11  credit_score                    45000 non-null  int64  \n",
      " 12  previous_loan_defaults_on_file  45000 non-null  object \n",
      " 13  loan_status                     45000 non-null  int64  \n",
      "dtypes: float64(6), int64(3), object(5)\n",
      "memory usage: 4.8+ MB\n"
     ]
    }
   ],
   "source": [
    "df.info()"
   ]
  },
  {
   "cell_type": "code",
   "execution_count": 5,
   "metadata": {},
   "outputs": [],
   "source": [
    "categorical = df.select_dtypes(include=['object'])"
   ]
  },
  {
   "cell_type": "code",
   "execution_count": 6,
   "metadata": {},
   "outputs": [
    {
     "ename": "NameError",
     "evalue": "name 'object_columns_df' is not defined",
     "output_type": "error",
     "traceback": [
      "\u001b[31m---------------------------------------------------------------------------\u001b[39m",
      "\u001b[31mNameError\u001b[39m                                 Traceback (most recent call last)",
      "\u001b[36mCell\u001b[39m\u001b[36m \u001b[39m\u001b[32mIn[6]\u001b[39m\u001b[32m, line 1\u001b[39m\n\u001b[32m----> \u001b[39m\u001b[32m1\u001b[39m \u001b[38;5;28;01mfor\u001b[39;00m c \u001b[38;5;129;01min\u001b[39;00m \u001b[43mobject_columns_df\u001b[49m:\n\u001b[32m      2\u001b[39m     display(df[c].value_counts())\n\u001b[32m      3\u001b[39m     \u001b[38;5;28mprint\u001b[39m(\u001b[33m\"\u001b[39m\u001b[38;5;130;01m\\n\u001b[39;00m\u001b[33m\"\u001b[39m)\n",
      "\u001b[31mNameError\u001b[39m: name 'object_columns_df' is not defined"
     ]
    }
   ],
   "source": [
    "for c in object_columns_df:\n",
    "    display(df[c].value_counts())\n",
    "    print(\"\\n\")"
   ]
  },
  {
   "cell_type": "code",
   "execution_count": null,
   "metadata": {},
   "outputs": [],
   "source": [
    "df['previous_loan_defaults_on_file']= df['previous_loan_defaults_on_file'].apply(lambda x: True if x=='Yes' else False,)"
   ]
  },
  {
   "cell_type": "code",
   "execution_count": null,
   "metadata": {},
   "outputs": [],
   "source": [
    "df.head()"
   ]
  },
  {
   "cell_type": "code",
   "execution_count": null,
   "metadata": {},
   "outputs": [],
   "source": [
    "from sklearn.model_selection import train_test_split\n",
    "\n",
    "y = df['loan_status']\n",
    "X = df.drop('loan_status', axis=1)\n",
    "\n",
    "X_train, X_test, y_train, y_test = train_test_split(X, y, test_size=0.25, random_state=42, stratify=y)"
   ]
  },
  {
   "cell_type": "code",
   "execution_count": null,
   "metadata": {},
   "outputs": [],
   "source": [
    "from sklearn.preprocessing import OneHotEncoder\n",
    "\n",
    "df_encoded = pd.get_dummies(df, columns=categorical, drop_first=True)\n",
    "#df_categoric = df[categorical]\n",
    "#enc = OneHotEncoder(handle_unknown='ignore')\n",
    "#one_hot_encoded = enc.fit_transform(df_categoric)\n",
    "#one_hot_df = pd.DataFrame(one_hot_encoded, columns=enc.get_feature_names_out(categorical))\n"
   ]
  },
  {
   "cell_type": "code",
   "execution_count": null,
   "metadata": {},
   "outputs": [],
   "source": [
    "from sklearn.ensemble import VotingClassifier, RandomForestClassifier\n",
    "from sklearn.linear_model import LogisticRegression\n",
    "from sklearn.svm import SVC\n",
    "from sklearn.tree import DecisionTreeClassifier\n",
    "\n",
    "log_clf = LogisticRegression(random_state=42)\n",
    "tree_clf = DecisionTreeClassifier(max_depth=None, random_state=42)\n",
    "svc_clf = SVC(kernel=\"rbf\", gamma=\"scale\", probability=True, random_state=42)  # probability=True habilita soft voting\n",
    "\n",
    "# Hard voting\n",
    "voting_hard = VotingClassifier(\n",
    "    estimators=[(\"lr\", log_clf), (\"tree\", tree_clf), (\"svc\", svc_clf)],\n",
    "    voting=\"hard\"\n",
    ")\n",
    "# Soft voting\n",
    "voting_soft = VotingClassifier(\n",
    "    estimators=[(\"lr\", log_clf), (\"tree\", tree_clf), (\"svc\", svc_clf)],\n",
    "    voting=\"soft\"  # promedia probabilidades\n",
    ")\n",
    "\n",
    "for name, clf in [(\"LogReg\", log_clf), (\"Tree\", tree_clf), (\"SVC\", svc_clf), (\"HardVote\", voting_hard), (\"SoftVote\", voting_soft)]:\n",
    "    clf.fit(X_train, y_train)\n",
    "    y_pred = clf.predict(X_test)\n",
    "    print(f\"{name:9s}  Acc={accuracy_score(y_test, y_pred):.3f}  F1={f1_score(y_test, y_pred):.3f}\")"
   ]
  }
 ],
 "metadata": {
  "colab": {
   "provenance": []
  },
  "kernelspec": {
   "display_name": "Python 3 (ipykernel)",
   "language": "python",
   "name": "python3"
  },
  "language_info": {
   "codemirror_mode": {
    "name": "ipython",
    "version": 3
   },
   "file_extension": ".py",
   "mimetype": "text/x-python",
   "name": "python",
   "nbconvert_exporter": "python",
   "pygments_lexer": "ipython3",
   "version": "3.13.6"
  }
 },
 "nbformat": 4,
 "nbformat_minor": 4
}
